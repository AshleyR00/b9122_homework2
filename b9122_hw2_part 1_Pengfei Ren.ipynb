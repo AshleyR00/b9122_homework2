{
 "cells": [
  {
   "cell_type": "code",
   "execution_count": 1,
   "id": "94d170e6",
   "metadata": {},
   "outputs": [],
   "source": [
    "from bs4 import BeautifulSoup\n",
    "import urllib.request\n",
    "import requests"
   ]
  },
  {
   "cell_type": "markdown",
   "id": "a433ef88",
   "metadata": {},
   "source": [
    "## Question 1 Part 1"
   ]
  },
  {
   "cell_type": "code",
   "execution_count": 3,
   "id": "6282b673",
   "metadata": {},
   "outputs": [],
   "source": [
    "seed_url='https://press.un.org/en'\n",
    "urls=[seed_url]\n",
    "seen=[seed_url]\n",
    "opened=[]\n",
    "num_result = 10\n",
    "result=[]\n",
    "name_count=0\n",
    "\n",
    "while len(urls) > 0 and len(result) < num_result:\n",
    "    try:        \n",
    "        curr_url=urls.pop(0)\n",
    "        req = urllib.request.Request(curr_url)\n",
    "        webpage = urllib.request.urlopen(req).read()\n",
    "        opened.append(curr_url)\n",
    "    except Exception as ex:\n",
    "        continue   \n",
    "      \n",
    "    soup = BeautifulSoup(webpage)\n",
    "\n",
    "    for tag in soup.find_all('a', href = True): \n",
    "        childUrl = tag['href']\n",
    "        o_childurl = childUrl\n",
    "        childUrl = urllib.parse.urljoin(seed_url, childUrl)\n",
    "\n",
    "        if seed_url in childUrl and childUrl not in seen:\n",
    "            response= requests.get(childUrl) \n",
    "            soup2=BeautifulSoup(response.content)\n",
    "            find1=soup2.find_all('a',href=\"/en/press-release\",hreflang=\"en\")\n",
    "\n",
    "            for tag in find1:\n",
    "                if tag.text.strip()=='Press Release': #check whether this is press release\n",
    "                    find2=soup2.find_all('p')\n",
    "                    content=''\n",
    "                    for tag2 in find2:\n",
    "                        content=content+tag2.text.strip()\n",
    "                    #check whether it contains crisis\n",
    "                    if 'crisis' in content:\n",
    "                        result.append(childUrl)\n",
    "                        name_count+=1\n",
    "                        name='1_'+str(name_count)+'.txt'\n",
    "                        urllib.request.urlretrieve(childUrl, name)\n",
    "            urls.append(childUrl)\n",
    "            seen.append(childUrl)  "
   ]
  },
  {
   "cell_type": "code",
   "execution_count": 4,
   "id": "d003659a",
   "metadata": {},
   "outputs": [
    {
     "data": {
      "text/plain": [
       "['https://press.un.org/en/2023/sgsm21982.doc.htm',\n",
       " 'https://press.un.org/en/2023/sgsm21980.doc.htm',\n",
       " 'https://press.un.org/en/2023/sgsm21978.doc.htm',\n",
       " 'https://press.un.org/en/2023/sgsm21947.doc.htm',\n",
       " 'https://press.un.org/en/2023/dsgsm1874.doc.htm',\n",
       " 'https://press.un.org/en/2023/sgsm21952.doc.htm',\n",
       " 'https://press.un.org/en/2023/sgsm21876.doc.htm',\n",
       " 'https://press.un.org/en/2023/sgsm21852.doc.htm',\n",
       " 'https://press.un.org/en/2023/sgsm21806.doc.htm',\n",
       " 'https://press.un.org/en/2023/dsgsm1848.doc.htm',\n",
       " 'https://press.un.org/en/2023/sgsm21765.doc.htm',\n",
       " 'https://press.un.org/en/2023/sgsm21767.doc.htm']"
      ]
     },
     "execution_count": 4,
     "metadata": {},
     "output_type": "execute_result"
    }
   ],
   "source": [
    "result"
   ]
  },
  {
   "cell_type": "markdown",
   "id": "f304936d",
   "metadata": {},
   "source": [
    "## Question 1 Part 2"
   ]
  },
  {
   "cell_type": "code",
   "execution_count": 9,
   "id": "90d768d1",
   "metadata": {},
   "outputs": [],
   "source": [
    "num_result = 10\n",
    "result=[]\n",
    "name_count=0\n",
    "\n",
    "\n",
    "for i in range(5):\n",
    "    seed_url0='https://www.europarl.europa.eu/news/en/press-room/'\n",
    "    seed='https://www.europarl.europa.eu/news/en/press-room/page/'\n",
    "    seed0='https://www.europarl.europa.eu/news/en/press-room'\n",
    "    seed_url = urllib.parse.urljoin(seed, str(i))\n",
    "    urls=[seed_url]\n",
    "    seen=[seed_url]\n",
    "    opened=[]\n",
    "    while len(urls) > 0:\n",
    "        try:        \n",
    "            curr_url=urls.pop(0)\n",
    "            req = urllib.request.Request(curr_url)\n",
    "            webpage = urllib.request.urlopen(req).read()\n",
    "            opened.append(curr_url)\n",
    "        except Exception as ex:\n",
    "            continue    \n",
    "      \n",
    "        soup = BeautifulSoup(webpage)\n",
    "        for tag in soup.find_all('a', href = True): \n",
    "            childUrl = tag['href'] \n",
    "            o_childurl = childUrl\n",
    "            childUrl = urllib.parse.urljoin(seed0, childUrl)\n",
    "\n",
    "            if len(result) < num_result and seed_url0 in childUrl and childUrl not in seen:\n",
    "                response=requests.get(childUrl) \n",
    "                soup2=BeautifulSoup(response.content)\n",
    "                find1=soup2.find_all('span',class_=\"ep_name\")\n",
    "\n",
    "                for tag in find1:\n",
    "                    if tag.text.strip()=='Plenary session': \n",
    "                        find2=soup2.find_all('p')\n",
    "                        content=''\n",
    "                        for tag2 in find2:\n",
    "                            content=content+tag2.text.strip()\n",
    "                        if 'crisis' in content:\n",
    "                            result.append(childUrl)\n",
    "                            name_count+=1\n",
    "                            name='2_'+str(name_count)+'.txt'\n",
    "                            urllib.request.urlretrieve(childUrl, name)\n",
    "                urls.append(childUrl)\n",
    "                seen.append(childUrl) \n",
    "\n"
   ]
  },
  {
   "cell_type": "code",
   "execution_count": 10,
   "id": "340d3364",
   "metadata": {},
   "outputs": [
    {
     "data": {
      "text/plain": [
       "['https://www.europarl.europa.eu/news/en/press-room/20230929IPR06132/nagorno-karabakh-meps-demand-review-of-eu-relations-with-azerbaijan',\n",
       " 'https://www.europarl.europa.eu/news/en/press-room/20210604IPR05513/biodiversity-meps-demand-binding-targets-to-protect-wildlife-and-people',\n",
       " 'https://www.europarl.europa.eu/news/en/press-room/20221209IPR64426/eu-long-term-budget-needs-urgent-revision-to-cope-with-current-crises',\n",
       " 'https://www.europarl.europa.eu/news/en/press-room/20210304IPR99207/parliament-gives-green-light-for-new-eu4health-programme',\n",
       " 'https://www.europarl.europa.eu/news/en/press-room/20220909IPR40138/parliament-adopts-new-rules-on-adequate-minimum-wages-for-all-workers-in-the-eu',\n",
       " 'https://www.europarl.europa.eu/news/en/press-room/20230310IPR77232/minimum-income-schemes-increasing-support-accessibility-and-inclusion',\n",
       " 'https://www.europarl.europa.eu/news/en/press-room/20230210IPR74806/green-deal-industrial-plan-securing-the-eu-s-clean-tech-leadership',\n",
       " 'https://www.europarl.europa.eu/news/en/press-room/20230707IPR02421/parliament-adopts-new-rules-to-boost-energy-savings',\n",
       " 'https://www.europarl.europa.eu/news/en/press-room/20220321IPR25913/more-eu-action-needed-for-secure-food-supply',\n",
       " 'https://www.europarl.europa.eu/news/en/press-room/20221209IPR64427/holodomor-parliament-recognises-soviet-starvation-of-ukrainians-as-genocide']"
      ]
     },
     "execution_count": 10,
     "metadata": {},
     "output_type": "execute_result"
    }
   ],
   "source": [
    "result"
   ]
  },
  {
   "cell_type": "markdown",
   "id": "d5a79d13",
   "metadata": {},
   "source": [
    "#### An explanation for \"for i in range(5)\" in the 4th line of the code:  \n",
    "Becuase we only need 10 urls, I found that going over 5 pages is sufficient, so I set i to be in range(5)"
   ]
  }
 ],
 "metadata": {
  "kernelspec": {
   "display_name": "Python 3 (ipykernel)",
   "language": "python",
   "name": "python3"
  },
  "language_info": {
   "codemirror_mode": {
    "name": "ipython",
    "version": 3
   },
   "file_extension": ".py",
   "mimetype": "text/x-python",
   "name": "python",
   "nbconvert_exporter": "python",
   "pygments_lexer": "ipython3",
   "version": "3.11.3"
  }
 },
 "nbformat": 4,
 "nbformat_minor": 5
}
